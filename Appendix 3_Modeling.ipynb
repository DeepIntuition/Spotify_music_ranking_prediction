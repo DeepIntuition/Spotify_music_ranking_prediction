{
 "cells": [
  {
   "cell_type": "code",
   "execution_count": 30,
   "metadata": {},
   "outputs": [],
   "source": [
    "import arviz as az\n",
    "import matplotlib as mpl\n",
    "import matplotlib.pyplot as plt\n",
    "import numpy as np\n",
    "import pandas as pd\n",
    "import pickle\n",
    "import pystan\n",
    "import seaborn as sns\n",
    "import scipy as sp"
   ]
  },
  {
   "cell_type": "markdown",
   "metadata": {},
   "source": [
    "# __Appendix 3__ | Modeling"
   ]
  },
  {
   "cell_type": "markdown",
   "metadata": {},
   "source": [
    "### __Load models__"
   ]
  },
  {
   "cell_type": "code",
   "execution_count": 31,
   "metadata": {},
   "outputs": [],
   "source": [
    "%run utility/stan_utility.py"
   ]
  },
  {
   "cell_type": "markdown",
   "metadata": {},
   "source": [
    "#### Import data"
   ]
  },
  {
   "cell_type": "code",
   "execution_count": 32,
   "metadata": {},
   "outputs": [],
   "source": [
    "names = ['streams', 'acousticness', 'danceability', 'energy', 'loudness', 'tempo', 'valence']\n",
    "names_2018 = ['streams', 'acousticness', 'danceability', 'loudness', 'tempo', 'valence']\n",
    "\n",
    "global_data  = pd.read_csv('./data/global_selected.csv',header=None, names=names)\n",
    "global_data_2018 = pd.read_csv('./data/2018_global_selected.csv',header=None, names=names)"
   ]
  },
  {
   "cell_type": "markdown",
   "metadata": {},
   "source": [
    "#### Select top 30 "
   ]
  },
  {
   "cell_type": "code",
   "execution_count": 33,
   "metadata": {},
   "outputs": [],
   "source": [
    "global_data = global_data[0:30]\n",
    "global_data_2018 = global_data_2018[0:30]"
   ]
  },
  {
   "cell_type": "markdown",
   "metadata": {},
   "source": [
    "#### Log transform the $Y$:"
   ]
  },
  {
   "cell_type": "code",
   "execution_count": 34,
   "metadata": {},
   "outputs": [],
   "source": [
    "global_data['streams'] = np.log10(global_data['streams'])"
   ]
  },
  {
   "cell_type": "markdown",
   "metadata": {},
   "source": [
    "#### Define method for calculating and combining LOO scores:"
   ]
  },
  {
   "cell_type": "code",
   "execution_count": 35,
   "metadata": {},
   "outputs": [],
   "source": [
    "def calculate_and_print_loo(fit, loos):\n",
    "    prior_dict = fit.extract(pars=['a','b','sigma'], permuted=False)\n",
    "    azfit = az.from_pystan(fit=fit, prior=prior_dict, \n",
    "                           observed_data='y', \n",
    "                           posterior_predictive='ypred', \n",
    "                           log_likelihood='log_lik')\n",
    "    loo_m = az.loo(azfit)\n",
    "    loo_m['Model'] = model_name\n",
    "    loo_m['div'], loo_m['treedepth'], loo_m['energy'] = div_check, tree_check, energy_check\n",
    "    loos = loos.append(loo_m, sort=True)\n",
    "    \n",
    "    return loo_m.set_index('Model'), loos "
   ]
  },
  {
   "cell_type": "markdown",
   "metadata": {},
   "source": [
    "#### Fit all 8 models:"
   ]
  },
  {
   "cell_type": "code",
   "execution_count": 41,
   "metadata": {},
   "outputs": [],
   "source": [
    "model_filenames = ['lin_3_uninformative.stan',\n",
    "                   'lin_3_informative.stan',\n",
    "                   'lin_5_informative.stan',\n",
    "                   'lin_5_informative-interaction.stan',\n",
    "                   'lin_5_informative-interaction2.stan',\n",
    "                   'lin_5_informative-second_order.stan',\n",
    "                   'lin_5_informative-second_order-inter.stan',\n",
    "                   'lin_5_informative-third_order-inter.stan']\n",
    "\n",
    "model_names = ['Linear; 3 Predictors Uninformative',\n",
    "               'Linear; 3 Predictors Weakly Informative, Normal',\n",
    "               'Linear; 5 Predictors Weakly Informative, Normal',\n",
    "               'Non-Linear; 5 Predictors Weakly Informative inter 1, Normal',\n",
    "               'Non-Linear; 5 Predictors Weakly Informative inter 2, Normal',\n",
    "               'Non-Linear; 5 Predictors Weakly Informative squared, Normal',\n",
    "               'Non-Linear; 5 Predictors Weakly Informative squared inter, Normal',\n",
    "               'Non-Linear; 5 Predictors Weakly Informative cubic, Normal']\n",
    "\n",
    "loos = pd.DataFrame(index=[], columns=[\"loo\", \"warning\", \"treedepth\", \"div\"])\n",
    "nums_b = [3,3,5,7,9,12,14,19]"
   ]
  },
  {
   "cell_type": "code",
   "execution_count": null,
   "metadata": {},
   "outputs": [],
   "source": [
    "for filename, num_b, model_name in zip(model_filenames, nums_b, model_names):\n",
    "    with open(filename, 'r') as file:\n",
    "        \n",
    "        gb_2017 = global_data.values\n",
    "        gb_2018 = global_data_2018.values \n",
    "\n",
    "        div_check, tree_check, energy_check = pystan.diagnostics.check_div(fit, verbose = 2), pystan.diagnostics.check_treedepth(fit, verbose = 2), pystan.diagnostics.check_energy(fit, verbose = 2)        \n",
    "                    \n",
    "        data = dict(N=gb_2017.shape[0],\n",
    "                    y=gb_2017[:,0],\n",
    "                    X1=gb_2017[:,1], X2=gb_2017[:,2], X3=gb_2017[:,4], X4=gb_2017[:,5], X5=gb_2017[:,6],\n",
    "                    Npred=gb_2018.shape[0], \n",
    "                    X1pred=gb_2018[:,1], X2pred=gb_2018[:,2], X3pred=gb_2018[:,3], X4pred=gb_2018[:,4], X5pred=gb_2018[:,5],\n",
    "                    mu_a=0,\n",
    "                    mu_b=np.zeros(num_b),\n",
    "                    sigma_0=0.12*10)\n",
    "\n",
    "        model = compile_model(filename, model_name=model_name) \n",
    "        fit = model.sampling(data=data, seed=2222)\n",
    "        \n",
    "        p, loos = calculate_and_print_loo(fit,loos)\n",
    "        "
   ]
  },
  {
   "cell_type": "markdown",
   "metadata": {},
   "source": [
    "#### Results"
   ]
  },
  {
   "cell_type": "code",
   "execution_count": 55,
   "metadata": {},
   "outputs": [
    {
     "data": {
      "text/html": [
       "<div>\n",
       "<style scoped>\n",
       "    .dataframe tbody tr th:only-of-type {\n",
       "        vertical-align: middle;\n",
       "    }\n",
       "\n",
       "    .dataframe tbody tr th {\n",
       "        vertical-align: top;\n",
       "    }\n",
       "\n",
       "    .dataframe thead th {\n",
       "        text-align: right;\n",
       "    }\n",
       "</style>\n",
       "<table border=\"1\" class=\"dataframe\">\n",
       "  <thead>\n",
       "    <tr style=\"text-align: right;\">\n",
       "      <th></th>\n",
       "      <th>div</th>\n",
       "      <th>energy</th>\n",
       "      <th>loo</th>\n",
       "      <th>loo_se</th>\n",
       "      <th>p_loo</th>\n",
       "      <th>treedepth</th>\n",
       "      <th>warning</th>\n",
       "    </tr>\n",
       "    <tr>\n",
       "      <th>Model</th>\n",
       "      <th></th>\n",
       "      <th></th>\n",
       "      <th></th>\n",
       "      <th></th>\n",
       "      <th></th>\n",
       "      <th></th>\n",
       "      <th></th>\n",
       "    </tr>\n",
       "  </thead>\n",
       "  <tbody>\n",
       "    <tr>\n",
       "      <th>Linear; 3 Predictors Uninformative</th>\n",
       "      <td>False</td>\n",
       "      <td>True</td>\n",
       "      <td>330.126070</td>\n",
       "      <td>1193.251565</td>\n",
       "      <td>1216.707605</td>\n",
       "      <td>True</td>\n",
       "      <td>1</td>\n",
       "    </tr>\n",
       "    <tr>\n",
       "      <th>Linear; 3 Predictors Weakly Informative, Normal</th>\n",
       "      <td>True</td>\n",
       "      <td>True</td>\n",
       "      <td>414.275619</td>\n",
       "      <td>1201.617354</td>\n",
       "      <td>1270.207832</td>\n",
       "      <td>True</td>\n",
       "      <td>1</td>\n",
       "    </tr>\n",
       "    <tr>\n",
       "      <th>Linear; 5 Predictors Weakly Informative, Normal</th>\n",
       "      <td>True</td>\n",
       "      <td>True</td>\n",
       "      <td>568.040652</td>\n",
       "      <td>1219.729017</td>\n",
       "      <td>1318.150582</td>\n",
       "      <td>True</td>\n",
       "      <td>1</td>\n",
       "    </tr>\n",
       "    <tr>\n",
       "      <th>Non-Linear; 5 Predictors Weakly Informative inter 1, Normal</th>\n",
       "      <td>True</td>\n",
       "      <td>True</td>\n",
       "      <td>1692.046913</td>\n",
       "      <td>1611.779674</td>\n",
       "      <td>1805.222313</td>\n",
       "      <td>True</td>\n",
       "      <td>1</td>\n",
       "    </tr>\n",
       "    <tr>\n",
       "      <th>Non-Linear; 5 Predictors Weakly Informative inter 2, Normal</th>\n",
       "      <td>True</td>\n",
       "      <td>True</td>\n",
       "      <td>3072.952117</td>\n",
       "      <td>1970.499454</td>\n",
       "      <td>2411.396402</td>\n",
       "      <td>True</td>\n",
       "      <td>1</td>\n",
       "    </tr>\n",
       "    <tr>\n",
       "      <th>Non-Linear; 5 Predictors Weakly Informative squared, Normal</th>\n",
       "      <td>True</td>\n",
       "      <td>True</td>\n",
       "      <td>2255.697280</td>\n",
       "      <td>1633.004880</td>\n",
       "      <td>2001.678876</td>\n",
       "      <td>True</td>\n",
       "      <td>1</td>\n",
       "    </tr>\n",
       "    <tr>\n",
       "      <th>Non-Linear; 5 Predictors Weakly Informative squared inter, Normal</th>\n",
       "      <td>True</td>\n",
       "      <td>True</td>\n",
       "      <td>3231.741395</td>\n",
       "      <td>1890.545766</td>\n",
       "      <td>2446.777666</td>\n",
       "      <td>True</td>\n",
       "      <td>1</td>\n",
       "    </tr>\n",
       "    <tr>\n",
       "      <th>Non-Linear; 5 Predictors Weakly Informative cubic, Normal</th>\n",
       "      <td>True</td>\n",
       "      <td>True</td>\n",
       "      <td>7528.847211</td>\n",
       "      <td>3188.444969</td>\n",
       "      <td>4436.048235</td>\n",
       "      <td>True</td>\n",
       "      <td>1</td>\n",
       "    </tr>\n",
       "  </tbody>\n",
       "</table>\n",
       "</div>"
      ],
      "text/plain": [
       "                                                      div energy          loo  \\\n",
       "Model                                                                           \n",
       "Linear; 3 Predictors Uninformative                  False   True   330.126070   \n",
       "Linear; 3 Predictors Weakly Informative, Normal      True   True   414.275619   \n",
       "Linear; 5 Predictors Weakly Informative, Normal      True   True   568.040652   \n",
       "Non-Linear; 5 Predictors Weakly Informative int...   True   True  1692.046913   \n",
       "Non-Linear; 5 Predictors Weakly Informative int...   True   True  3072.952117   \n",
       "Non-Linear; 5 Predictors Weakly Informative squ...   True   True  2255.697280   \n",
       "Non-Linear; 5 Predictors Weakly Informative squ...   True   True  3231.741395   \n",
       "Non-Linear; 5 Predictors Weakly Informative cub...   True   True  7528.847211   \n",
       "\n",
       "                                                         loo_se        p_loo  \\\n",
       "Model                                                                          \n",
       "Linear; 3 Predictors Uninformative                  1193.251565  1216.707605   \n",
       "Linear; 3 Predictors Weakly Informative, Normal     1201.617354  1270.207832   \n",
       "Linear; 5 Predictors Weakly Informative, Normal     1219.729017  1318.150582   \n",
       "Non-Linear; 5 Predictors Weakly Informative int...  1611.779674  1805.222313   \n",
       "Non-Linear; 5 Predictors Weakly Informative int...  1970.499454  2411.396402   \n",
       "Non-Linear; 5 Predictors Weakly Informative squ...  1633.004880  2001.678876   \n",
       "Non-Linear; 5 Predictors Weakly Informative squ...  1890.545766  2446.777666   \n",
       "Non-Linear; 5 Predictors Weakly Informative cub...  3188.444969  4436.048235   \n",
       "\n",
       "                                                   treedepth warning  \n",
       "Model                                                                 \n",
       "Linear; 3 Predictors Uninformative                      True       1  \n",
       "Linear; 3 Predictors Weakly Informative, Normal         True       1  \n",
       "Linear; 5 Predictors Weakly Informative, Normal         True       1  \n",
       "Non-Linear; 5 Predictors Weakly Informative int...      True       1  \n",
       "Non-Linear; 5 Predictors Weakly Informative int...      True       1  \n",
       "Non-Linear; 5 Predictors Weakly Informative squ...      True       1  \n",
       "Non-Linear; 5 Predictors Weakly Informative squ...      True       1  \n",
       "Non-Linear; 5 Predictors Weakly Informative cub...      True       1  "
      ]
     },
     "execution_count": 55,
     "metadata": {},
     "output_type": "execute_result"
    }
   ],
   "source": [
    "loos_file = loos.set_index('Model')\n",
    "loos_file"
   ]
  },
  {
   "cell_type": "markdown",
   "metadata": {},
   "source": [
    "#### Save to file"
   ]
  },
  {
   "cell_type": "code",
   "execution_count": 54,
   "metadata": {},
   "outputs": [],
   "source": [
    "loos_file.to_csv('model_comparison.csv')"
   ]
  }
 ],
 "metadata": {
  "kernelspec": {
   "display_name": "Python [conda env:bdaproject]",
   "language": "python",
   "name": "conda-env-bdaproject-py"
  },
  "language_info": {
   "codemirror_mode": {
    "name": "ipython",
    "version": 3
   },
   "file_extension": ".py",
   "mimetype": "text/x-python",
   "name": "python",
   "nbconvert_exporter": "python",
   "pygments_lexer": "ipython3",
   "version": "3.7.1"
  }
 },
 "nbformat": 4,
 "nbformat_minor": 2
}
