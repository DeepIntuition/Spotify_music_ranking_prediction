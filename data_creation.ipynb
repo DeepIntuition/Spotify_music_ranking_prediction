{
 "cells": [
  {
   "cell_type": "code",
   "execution_count": 30,
   "metadata": {},
   "outputs": [],
   "source": [
    "import io\n",
    "import pandas as pd\n",
    "import requests\n",
    "import time\n",
    "import tqdm\n",
    "import numpy as np\n",
    "import pandas as pd\n",
    "import matplotlib.pyplot as plt\n",
    "import seaborn as sns\n",
    "import spotipy\n",
    "from spotipy.oauth2 import SpotifyClientCredentials"
   ]
  },
  {
   "cell_type": "markdown",
   "metadata": {},
   "source": [
    "## Create datasets\n",
    "The datasets are obtained by quering Spotify API using this script. First we obtain the lists of top 100 songs by region. Then we find the trackIDs and use those to query the audio features. "
   ]
  },
  {
   "cell_type": "markdown",
   "metadata": {},
   "source": [
    "### Rankings query"
   ]
  },
  {
   "cell_type": "code",
   "execution_count": 31,
   "metadata": {},
   "outputs": [],
   "source": [
    "# get a day/week's list of top 200 songs\n",
    "def get_chart(date, region='en', freq='daily', chart='top200'):\n",
    "    chart = 'regional' if chart == 'top200' else 'viral'\n",
    "    date = pd.to_datetime(date)\n",
    "    if date.year < 2017:\n",
    "        raise ValueError('No chart data available from before 2017')\n",
    "    if freq == 'weekly':\n",
    "        start, end = week_dates(date, weekday=4)\n",
    "        date = f'{start.date()}--{end.date()}'\n",
    "    else:\n",
    "        date = f'{date.date()}'\n",
    "    url = f'https://spotifycharts.com/{chart}/{region}/{freq}/{date}/download'\n",
    "    data = io.StringIO(requests.get(url).text)\n",
    "    try:\n",
    "        df = pd.read_csv(data)\n",
    "    except pd.errors.ParserError:\n",
    "        df = None\n",
    "        print(data)\n",
    "    return df\n",
    "# get a range of days/weeks' top 200 songs\n",
    "def get_charts(start, end, region='en', freq='daily', chart='top200', sleep=1):\n",
    "    sample = 'D' if freq == 'daily' else 'W'\n",
    "    dfs = []\n",
    "    for date in tqdm.tqdm(pd.date_range(start=start, end=end, freq=sample)):\n",
    "        df = get_chart(date, region=region, freq=freq, chart=chart)\n",
    "        if df is not None:\n",
    "            df['date'] = date\n",
    "            dfs.append(df)\n",
    "            time.sleep(sleep)\n",
    "    return pd.concat(dfs)\n",
    "def formatting(df):\n",
    "    # set first row as column names\n",
    "    df.columns = df.iloc[0]\n",
    "    # drop first row \n",
    "    df=df.drop(df.index[0])\n",
    "    # drop useless columns\n",
    "    df=df.drop(['URL','Artist','Position'],axis=1)\n",
    "    df.columns = ['name','streams','date']\n",
    "    df = df[['name','streams']]\n",
    "    # streams datatype from string to int\n",
    "    df.streams = df.streams.astype(int)\n",
    "    # group by name and sort by aggregated yearly sterams\n",
    "    data = df.groupby('name').sum().sort_values(by=['streams'],ascending=False)\n",
    "    return data"
   ]
  },
  {
   "cell_type": "code",
   "execution_count": null,
   "metadata": {},
   "outputs": [],
   "source": [
    "# download data for 2 years and 4 regions \n",
    "regions = ['global','fi','se','us']\n",
    "years = [2017,2018]\n",
    "for year in years:\n",
    "    for region in regions:\n",
    "        df = get_charts('{}-01-01'.format(year),'{}-12-30'.format(year),region=region,freq='daily',chart='top200')\n",
    "        data = formatting(df).iloc[:100]\n",
    "        data.to_csv(\"{}_{}.csv\".format(region,year))"
   ]
  },
  {
   "cell_type": "markdown",
   "metadata": {},
   "source": [
    "### Audio features query"
   ]
  },
  {
   "cell_type": "code",
   "execution_count": 22,
   "metadata": {},
   "outputs": [],
   "source": [
    "# Spotify API authorization\n",
    "# my credentials but it's not important so I didn't make it a private environment\n",
    "# variable, instead let's just use this together to save the troubles\n",
    "client_credentials_manager = SpotifyClientCredentials(client_id='163cc87eba564053a5f582d3c686ea61',\n",
    "                                                      client_secret='c549e5b597ef4ed3abbb185c19c4653e')\n",
    "spotify = spotipy.Spotify(client_credentials_manager=client_credentials_manager)"
   ]
  },
  {
   "cell_type": "code",
   "execution_count": 23,
   "metadata": {},
   "outputs": [
    {
     "data": {
      "text/html": [
       "<div>\n",
       "<style scoped>\n",
       "    .dataframe tbody tr th:only-of-type {\n",
       "        vertical-align: middle;\n",
       "    }\n",
       "\n",
       "    .dataframe tbody tr th {\n",
       "        vertical-align: top;\n",
       "    }\n",
       "\n",
       "    .dataframe thead th {\n",
       "        text-align: right;\n",
       "    }\n",
       "</style>\n",
       "<table border=\"1\" class=\"dataframe\">\n",
       "  <thead>\n",
       "    <tr style=\"text-align: right;\">\n",
       "      <th></th>\n",
       "      <th>name</th>\n",
       "      <th>acousticness</th>\n",
       "      <th>danceability</th>\n",
       "      <th>duration_ms</th>\n",
       "      <th>energy</th>\n",
       "      <th>instrumentalness</th>\n",
       "      <th>key</th>\n",
       "      <th>liveness</th>\n",
       "      <th>loudness</th>\n",
       "      <th>mode</th>\n",
       "      <th>speechiness</th>\n",
       "      <th>tempo</th>\n",
       "      <th>time_signature</th>\n",
       "      <th>valence</th>\n",
       "    </tr>\n",
       "  </thead>\n",
       "  <tbody>\n",
       "    <tr>\n",
       "      <th>0</th>\n",
       "      <td>shape of you</td>\n",
       "      <td>0.581</td>\n",
       "      <td>0.825</td>\n",
       "      <td>233713</td>\n",
       "      <td>0.652</td>\n",
       "      <td>0</td>\n",
       "      <td>1</td>\n",
       "      <td>0.0931</td>\n",
       "      <td>-3.183</td>\n",
       "      <td>0</td>\n",
       "      <td>0.0802</td>\n",
       "      <td>95.977</td>\n",
       "      <td>4</td>\n",
       "      <td>0.931</td>\n",
       "    </tr>\n",
       "  </tbody>\n",
       "</table>\n",
       "</div>"
      ],
      "text/plain": [
       "           name  acousticness  danceability  duration_ms  energy  \\\n",
       "0  shape of you         0.581         0.825       233713   0.652   \n",
       "\n",
       "   instrumentalness  key  liveness  loudness  mode  speechiness   tempo  \\\n",
       "0                 0    1    0.0931    -3.183     0       0.0802  95.977   \n",
       "\n",
       "   time_signature  valence  \n",
       "0               4    0.931  "
      ]
     },
     "execution_count": 23,
     "metadata": {},
     "output_type": "execute_result"
    }
   ],
   "source": [
    "# request auido features from song name\n",
    "def get_audio_features(name):\n",
    "    # search for song ID from song name\n",
    "    search_result = spotify.search(q='track:' + name , type='track',market='gb')\n",
    "    \n",
    "    # if no result found, return dataframe with NAN\n",
    "    if len(search_result['tracks']['items'])==0:\n",
    "        raw = pd.DataFrame(np.nan, index=[0], columns=['name','acousticness','danceability','duration_ms',\n",
    "                          'energy','instrumentalness','key','liveness', \n",
    "                          'loudness','mode','speechiness','tempo',\n",
    "                          'time_signature','valence'])\n",
    "    else:\n",
    "        trackID=search_result['tracks']['items'][0]['id']\n",
    "        # request audio features \n",
    "        raw = pd.DataFrame(spotify.audio_features(tracks=trackID))\n",
    "    raw['name'] = name\n",
    "    audio_features = raw[['name','acousticness','danceability','duration_ms',\n",
    "                          'energy','instrumentalness','key','liveness', \n",
    "                          'loudness','mode','speechiness','tempo',\n",
    "                          'time_signature','valence']]\n",
    "    return audio_features\n",
    "# example\n",
    "get_audio_features('shape of you')"
   ]
  },
  {
   "cell_type": "code",
   "execution_count": 24,
   "metadata": {},
   "outputs": [],
   "source": [
    "# get all the audio features for a list of songs\n",
    "def audio_features(rankings,country_name):\n",
    "    for n,song in enumerate(rankings['name']):\n",
    "        if n==0:\n",
    "            audio_features = get_audio_features(song)\n",
    "        else:\n",
    "            next_song_features = get_audio_features(song)\n",
    "            audio_features = pd.concat([audio_features,next_song_features])\n",
    "    audio_features = audio_features.reset_index(drop=True)\n",
    "\n",
    "    # combine ranking and audio features\n",
    "    result = pd.merge(rankings,audio_features,on='name',how='left')\n",
    "\n",
    "    # save to csv file|\n",
    "    result.to_csv(\"./data/2018_{}_complete.csv\".format(country_name))\n",
    "    return result"
   ]
  },
  {
   "cell_type": "markdown",
   "metadata": {},
   "source": [
    "## Checking data quality"
   ]
  },
  {
   "cell_type": "code",
   "execution_count": null,
   "metadata": {},
   "outputs": [],
   "source": [
    "# missing values\n",
    "print(pd.isna(global_data_2017).sum())"
   ]
  },
  {
   "cell_type": "markdown",
   "metadata": {},
   "source": [
    "## Feature Engineering"
   ]
  },
  {
   "cell_type": "markdown",
   "metadata": {},
   "source": [
    "### Feature selection\n",
    "1. Remove instrumentalness, mode, and time_signiture because they are not informative (low variation: most belong to one category or all categories quite evenly distributed)\n",
    "2. Remove speechiness, because we are mostly interested in music not audio book or talk show (Values above 0.66 describe tracks that are probably made entirely of spoken words; Values below 0.33 most likely represent music and other non-speech-like tracks).\n",
    "3. (undecided) Remove duration_ms, because it may not be a deciding factor.\n",
    "4. (undecided) Remove liveness(Detects the presence of an audience in the recording), because it may not be a deciding factor."
   ]
  },
  {
   "cell_type": "code",
   "execution_count": 106,
   "metadata": {},
   "outputs": [
    {
     "data": {
      "text/plain": [
       "Index(['name', 'streams', 'acousticness', 'danceability', 'duration_ms',\n",
       "       'energy', 'instrumentalness', 'key', 'liveness', 'loudness', 'mode',\n",
       "       'speechiness', 'tempo', 'time_signature', 'valence'],\n",
       "      dtype='object')"
      ]
     },
     "execution_count": 106,
     "metadata": {},
     "output_type": "execute_result"
    }
   ],
   "source": [
    "global_data_2017.columns"
   ]
  },
  {
   "cell_type": "code",
   "execution_count": 107,
   "metadata": {
    "run_control": {
     "marked": true
    }
   },
   "outputs": [],
   "source": [
    "from sklearn.ensemble import ExtraTreesClassifier"
   ]
  },
  {
   "cell_type": "code",
   "execution_count": 108,
   "metadata": {},
   "outputs": [
    {
     "data": {
      "text/html": [
       "<div>\n",
       "<style scoped>\n",
       "    .dataframe tbody tr th:only-of-type {\n",
       "        vertical-align: middle;\n",
       "    }\n",
       "\n",
       "    .dataframe tbody tr th {\n",
       "        vertical-align: top;\n",
       "    }\n",
       "\n",
       "    .dataframe thead th {\n",
       "        text-align: right;\n",
       "    }\n",
       "</style>\n",
       "<table border=\"1\" class=\"dataframe\">\n",
       "  <thead>\n",
       "    <tr style=\"text-align: right;\">\n",
       "      <th></th>\n",
       "      <th>0</th>\n",
       "    </tr>\n",
       "  </thead>\n",
       "  <tbody>\n",
       "    <tr>\n",
       "      <th>acousticness</th>\n",
       "      <td>0.094388</td>\n",
       "    </tr>\n",
       "    <tr>\n",
       "      <th>danceability</th>\n",
       "      <td>0.095918</td>\n",
       "    </tr>\n",
       "    <tr>\n",
       "      <th>duration_ms</th>\n",
       "      <td>0.089796</td>\n",
       "    </tr>\n",
       "    <tr>\n",
       "      <th>energy</th>\n",
       "      <td>0.086735</td>\n",
       "    </tr>\n",
       "    <tr>\n",
       "      <th>instrumentalness</th>\n",
       "      <td>0.064286</td>\n",
       "    </tr>\n",
       "    <tr>\n",
       "      <th>key</th>\n",
       "      <td>0.077551</td>\n",
       "    </tr>\n",
       "    <tr>\n",
       "      <th>liveness</th>\n",
       "      <td>0.083163</td>\n",
       "    </tr>\n",
       "    <tr>\n",
       "      <th>loudness</th>\n",
       "      <td>0.080612</td>\n",
       "    </tr>\n",
       "    <tr>\n",
       "      <th>mode</th>\n",
       "      <td>0.039286</td>\n",
       "    </tr>\n",
       "    <tr>\n",
       "      <th>speechiness</th>\n",
       "      <td>0.079082</td>\n",
       "    </tr>\n",
       "    <tr>\n",
       "      <th>tempo</th>\n",
       "      <td>0.095918</td>\n",
       "    </tr>\n",
       "    <tr>\n",
       "      <th>time_signature</th>\n",
       "      <td>0.014286</td>\n",
       "    </tr>\n",
       "    <tr>\n",
       "      <th>valence</th>\n",
       "      <td>0.098980</td>\n",
       "    </tr>\n",
       "  </tbody>\n",
       "</table>\n",
       "</div>"
      ],
      "text/plain": [
       "                         0\n",
       "acousticness      0.094388\n",
       "danceability      0.095918\n",
       "duration_ms       0.089796\n",
       "energy            0.086735\n",
       "instrumentalness  0.064286\n",
       "key               0.077551\n",
       "liveness          0.083163\n",
       "loudness          0.080612\n",
       "mode              0.039286\n",
       "speechiness       0.079082\n",
       "tempo             0.095918\n",
       "time_signature    0.014286\n",
       "valence           0.098980"
      ]
     },
     "execution_count": 108,
     "metadata": {},
     "output_type": "execute_result"
    }
   ],
   "source": [
    "# global data\n",
    "def feature_importance(region):\n",
    "    X, y = region.drop(['streams','name'],axis=1).values,region['streams'].values\n",
    "    clf = ExtraTreesClassifier(n_estimators=20)\n",
    "    clf = clf.fit(X, y)   \n",
    "    importance = pd.DataFrame(clf.feature_importances_,region.columns[2:])\n",
    "    return importance\n",
    "feature_importance(global_data_2017)"
   ]
  },
  {
   "cell_type": "code",
   "execution_count": 109,
   "metadata": {},
   "outputs": [],
   "source": [
    "# remove suboptimal features\n",
    "# remove key as it's less important, and it's not a continous feature \n",
    "# which adds more difficulty to feature scaling and interpretation\n",
    "datasets = [global_data_2017,finland_data_2017,sweden_data_2017,us_data_2017,global_data_2018,finland_data_2018,sweden_data_2018,us_data_2018]\n",
    "for data in datasets:\n",
    "    data.drop(['name','loudness','instrumentalness','mode','time_signature','speechiness',\n",
    "               'duration_ms','liveness','key'],axis=1,inplace=True)"
   ]
  },
  {
   "cell_type": "markdown",
   "metadata": {},
   "source": [
    "### Feature scaling"
   ]
  },
  {
   "cell_type": "code",
   "execution_count": 111,
   "metadata": {},
   "outputs": [
    {
     "data": {
      "text/plain": [
       "Index(['streams', 'acousticness', 'danceability', 'energy', 'tempo',\n",
       "       'valence'],\n",
       "      dtype='object')"
      ]
     },
     "execution_count": 111,
     "metadata": {},
     "output_type": "execute_result"
    }
   ],
   "source": [
    "us_data_2017.columns"
   ]
  },
  {
   "cell_type": "code",
   "execution_count": 113,
   "metadata": {},
   "outputs": [],
   "source": [
    "# for 2018\n",
    "np.set_printoptions(precision=5,suppress=True)\n",
    "from sklearn.preprocessing import StandardScaler\n",
    "names = ['global','finland','sweden','us']\n",
    "scaler = StandardScaler()\n",
    "for i,data in enumerate(datasets):\n",
    "    features = data.drop(['streams'],axis=1).values\n",
    "    scaled_features = scaler.fit_transform(features)\n",
    "    result = np.zeros((data.shape[0],6))\n",
    "    result[:,0] = data['streams'].values\n",
    "    result[:,1:] = scaled_features\n",
    "    # save final processed data to csv \n",
    "    np.savetxt(\"./data/2018_{}_selected.csv\".format(names[i]), \n",
    "               result,delimiter=',')"
   ]
  }
 ],
 "metadata": {
  "kernelspec": {
   "display_name": "Python 3",
   "language": "python",
   "name": "python3"
  },
  "language_info": {
   "codemirror_mode": {
    "name": "ipython",
    "version": 3
   },
   "file_extension": ".py",
   "mimetype": "text/x-python",
   "name": "python",
   "nbconvert_exporter": "python",
   "pygments_lexer": "ipython3",
   "version": "3.6.4"
  },
  "toc": {
   "base_numbering": 1,
   "nav_menu": {},
   "number_sections": false,
   "sideBar": true,
   "skip_h1_title": false,
   "title_cell": "Table of Contents",
   "title_sidebar": "Contents",
   "toc_cell": false,
   "toc_position": {},
   "toc_section_display": true,
   "toc_window_display": false
  }
 },
 "nbformat": 4,
 "nbformat_minor": 2
}
